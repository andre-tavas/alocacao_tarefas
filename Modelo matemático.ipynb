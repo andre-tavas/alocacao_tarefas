{
 "cells": [
  {
   "cell_type": "markdown",
   "id": "488ab73c",
   "metadata": {},
   "source": [
    "$I$: Conjunto de pessoas \\\n",
    "$J$: Conjunto de tarefas \\\n",
    "$p_{j}$: Peso/esforço de cada tarefa \\\n",
    "$c_{ij} \\in \\{1,2,3\\}$: Preferência de i para fazer j. 1 se prefere mais, 3 se prefere menos \\\n",
    "\\\n",
    "$x_{ij}$: 1 se pessoa i é alocada para fazer tarefa j, 0 senão\n",
    "\n",
    "\n",
    "$$\n",
    "\\min z + \\sum_{(i,j) \\in d_{ij}} d_{ij} x_{ij}\\\\\n",
    "\\sum_{i \\in I } x_{ij} = 1 \\;\\;\\;\\; \\forall j \\in J \\\\\n",
    "z \\geq \\sum_{i \\in I} \\sum_{u \\in J} \\frac{c_{iu} x_{iu}}{n} - \\sum_{i \\in I } x_{ij} c_{ij} \\;\\;\\;\\;  \\forall i \\in I \\\\\n",
    "z \\geq \\sum_{i \\in I} c_{ij} x_{ij}  -  \\sum_{i \\in I} \\sum_{u \\in J} \\frac{c_{iu} x_{iu}}{n} \\;\\;\\;\\;  \\forall i \\in I \\\\\n",
    "z \\geq 0 \\\\\n",
    "x_{ij} \\in {0, 1}\n",
    "$$"
   ]
  }
 ],
 "metadata": {
  "kernelspec": {
   "display_name": "Python 3 (ipykernel)",
   "language": "python",
   "name": "python3"
  },
  "language_info": {
   "codemirror_mode": {
    "name": "ipython",
    "version": 3
   },
   "file_extension": ".py",
   "mimetype": "text/x-python",
   "name": "python",
   "nbconvert_exporter": "python",
   "pygments_lexer": "ipython3",
   "version": "3.9.12"
  }
 },
 "nbformat": 4,
 "nbformat_minor": 5
}
